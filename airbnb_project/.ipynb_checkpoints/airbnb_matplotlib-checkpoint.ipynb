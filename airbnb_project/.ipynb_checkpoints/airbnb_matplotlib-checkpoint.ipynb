{
 "cells": [
  {
   "cell_type": "markdown",
   "id": "9fd9e79c-11a3-4f72-86f0-23a31a8b59b1",
   "metadata": {},
   "source": [
    "### Data Visualization for EDA with matplotlib library\n",
    "* Define matplotlib\n",
    "* Features of matplotlib\n",
    "* Application of matplotlib"
   ]
  },
  {
   "cell_type": "markdown",
   "id": "cce1762d-6c3f-40de-8abc-56493d93625a",
   "metadata": {},
   "source": [
    "Matplotlib is a data visulaixzation library in **python** with a number of functions that can"
   ]
  },
  {
   "cell_type": "code",
   "execution_count": 4,
   "id": "6635e4bb-94c3-4efa-96e2-ed9f583d5ccd",
   "metadata": {},
   "outputs": [],
   "source": [
    "import numpy as np\n",
    "import pandas as pd\n",
    "import matplotlib.pyplot as plt"
   ]
  },
  {
   "cell_type": "code",
   "execution_count": 5,
   "id": "44e6cf4c-06f0-49d8-95e6-1bfa95f81604",
   "metadata": {},
   "outputs": [],
   "source": [
    "airbnb = pd.read_csv(\"airbnb.csv\")"
   ]
  },
  {
   "cell_type": "code",
   "execution_count": 7,
   "id": "ff868c85-3ed3-4fc1-a417-404e6d1ebcbe",
   "metadata": {},
   "outputs": [
    {
     "data": {
      "text/html": [
       "<div>\n",
       "<style scoped>\n",
       "    .dataframe tbody tr th:only-of-type {\n",
       "        vertical-align: middle;\n",
       "    }\n",
       "\n",
       "    .dataframe tbody tr th {\n",
       "        vertical-align: top;\n",
       "    }\n",
       "\n",
       "    .dataframe thead th {\n",
       "        text-align: right;\n",
       "    }\n",
       "</style>\n",
       "<table border=\"1\" class=\"dataframe\">\n",
       "  <thead>\n",
       "    <tr style=\"text-align: right;\">\n",
       "      <th></th>\n",
       "      <th>id</th>\n",
       "      <th>name</th>\n",
       "      <th>host_id</th>\n",
       "      <th>host_name</th>\n",
       "      <th>neighbourhood_group</th>\n",
       "      <th>neighbourhood</th>\n",
       "      <th>latitude</th>\n",
       "      <th>longitude</th>\n",
       "      <th>room_type</th>\n",
       "      <th>price</th>\n",
       "      <th>minimum_nights</th>\n",
       "      <th>number_of_reviews</th>\n",
       "      <th>last_review</th>\n",
       "      <th>reviews_per_month</th>\n",
       "      <th>calculated_host_listings_count</th>\n",
       "      <th>availability_365</th>\n",
       "      <th>number_of_reviews_ltm</th>\n",
       "      <th>license</th>\n",
       "    </tr>\n",
       "  </thead>\n",
       "  <tbody>\n",
       "    <tr>\n",
       "      <th>0</th>\n",
       "      <td>10595</td>\n",
       "      <td>96m2, 3BR, 2BA, Metro, WI-FI etc...</td>\n",
       "      <td>37177</td>\n",
       "      <td>Emmanouil</td>\n",
       "      <td>NaN</td>\n",
       "      <td>ΑΜΠΕΛΟΚΗΠΟΙ</td>\n",
       "      <td>37.98863</td>\n",
       "      <td>23.76527</td>\n",
       "      <td>Entire home/apt</td>\n",
       "      <td>103</td>\n",
       "      <td>1</td>\n",
       "      <td>33</td>\n",
       "      <td>2022-06-02</td>\n",
       "      <td>0.24</td>\n",
       "      <td>7</td>\n",
       "      <td>178</td>\n",
       "      <td>7</td>\n",
       "      <td>00000957568</td>\n",
       "    </tr>\n",
       "    <tr>\n",
       "      <th>1</th>\n",
       "      <td>10990</td>\n",
       "      <td>Athens Quality Apartments - Deluxe Apartment</td>\n",
       "      <td>37177</td>\n",
       "      <td>Emmanouil</td>\n",
       "      <td>NaN</td>\n",
       "      <td>ΑΜΠΕΛΟΚΗΠΟΙ</td>\n",
       "      <td>37.98903</td>\n",
       "      <td>23.76448</td>\n",
       "      <td>Entire home/apt</td>\n",
       "      <td>71</td>\n",
       "      <td>1</td>\n",
       "      <td>62</td>\n",
       "      <td>2022-06-10</td>\n",
       "      <td>0.52</td>\n",
       "      <td>7</td>\n",
       "      <td>278</td>\n",
       "      <td>14</td>\n",
       "      <td>00001070920</td>\n",
       "    </tr>\n",
       "    <tr>\n",
       "      <th>2</th>\n",
       "      <td>10993</td>\n",
       "      <td>Athens Quality Apartments - Studio</td>\n",
       "      <td>37177</td>\n",
       "      <td>Emmanouil</td>\n",
       "      <td>NaN</td>\n",
       "      <td>ΑΜΠΕΛΟΚΗΠΟΙ</td>\n",
       "      <td>37.98888</td>\n",
       "      <td>23.76473</td>\n",
       "      <td>Entire home/apt</td>\n",
       "      <td>55</td>\n",
       "      <td>1</td>\n",
       "      <td>87</td>\n",
       "      <td>2022-06-13</td>\n",
       "      <td>0.73</td>\n",
       "      <td>7</td>\n",
       "      <td>147</td>\n",
       "      <td>24</td>\n",
       "      <td>00000957080</td>\n",
       "    </tr>\n",
       "    <tr>\n",
       "      <th>3</th>\n",
       "      <td>10995</td>\n",
       "      <td>AQA-No2 1-bedroom, smart tv, fiber connection,</td>\n",
       "      <td>37177</td>\n",
       "      <td>Emmanouil</td>\n",
       "      <td>NaN</td>\n",
       "      <td>ΑΜΠΕΛΟΚΗΠΟΙ</td>\n",
       "      <td>37.98903</td>\n",
       "      <td>23.76448</td>\n",
       "      <td>Entire home/apt</td>\n",
       "      <td>75</td>\n",
       "      <td>1</td>\n",
       "      <td>29</td>\n",
       "      <td>2022-04-02</td>\n",
       "      <td>0.20</td>\n",
       "      <td>7</td>\n",
       "      <td>248</td>\n",
       "      <td>5</td>\n",
       "      <td>00000957422</td>\n",
       "    </tr>\n",
       "    <tr>\n",
       "      <th>4</th>\n",
       "      <td>27262</td>\n",
       "      <td>54m2, 1-br, cable tv, wi-fi, metro</td>\n",
       "      <td>37177</td>\n",
       "      <td>Emmanouil</td>\n",
       "      <td>NaN</td>\n",
       "      <td>ΑΜΠΕΛΟΚΗΠΟΙ</td>\n",
       "      <td>37.98924</td>\n",
       "      <td>23.76500</td>\n",
       "      <td>Entire home/apt</td>\n",
       "      <td>71</td>\n",
       "      <td>1</td>\n",
       "      <td>17</td>\n",
       "      <td>2020-01-08</td>\n",
       "      <td>0.14</td>\n",
       "      <td>7</td>\n",
       "      <td>4</td>\n",
       "      <td>0</td>\n",
       "      <td>00000957579</td>\n",
       "    </tr>\n",
       "  </tbody>\n",
       "</table>\n",
       "</div>"
      ],
      "text/plain": [
       "      id                                            name  host_id  host_name  \\\n",
       "0  10595             96m2, 3BR, 2BA, Metro, WI-FI etc...    37177  Emmanouil   \n",
       "1  10990    Athens Quality Apartments - Deluxe Apartment    37177  Emmanouil   \n",
       "2  10993              Athens Quality Apartments - Studio    37177  Emmanouil   \n",
       "3  10995  AQA-No2 1-bedroom, smart tv, fiber connection,    37177  Emmanouil   \n",
       "4  27262              54m2, 1-br, cable tv, wi-fi, metro    37177  Emmanouil   \n",
       "\n",
       "   neighbourhood_group neighbourhood  latitude  longitude        room_type  \\\n",
       "0                  NaN   ΑΜΠΕΛΟΚΗΠΟΙ  37.98863   23.76527  Entire home/apt   \n",
       "1                  NaN   ΑΜΠΕΛΟΚΗΠΟΙ  37.98903   23.76448  Entire home/apt   \n",
       "2                  NaN   ΑΜΠΕΛΟΚΗΠΟΙ  37.98888   23.76473  Entire home/apt   \n",
       "3                  NaN   ΑΜΠΕΛΟΚΗΠΟΙ  37.98903   23.76448  Entire home/apt   \n",
       "4                  NaN   ΑΜΠΕΛΟΚΗΠΟΙ  37.98924   23.76500  Entire home/apt   \n",
       "\n",
       "   price  minimum_nights  number_of_reviews last_review  reviews_per_month  \\\n",
       "0    103               1                 33  2022-06-02               0.24   \n",
       "1     71               1                 62  2022-06-10               0.52   \n",
       "2     55               1                 87  2022-06-13               0.73   \n",
       "3     75               1                 29  2022-04-02               0.20   \n",
       "4     71               1                 17  2020-01-08               0.14   \n",
       "\n",
       "   calculated_host_listings_count  availability_365  number_of_reviews_ltm  \\\n",
       "0                               7               178                      7   \n",
       "1                               7               278                     14   \n",
       "2                               7               147                     24   \n",
       "3                               7               248                      5   \n",
       "4                               7                 4                      0   \n",
       "\n",
       "       license  \n",
       "0  00000957568  \n",
       "1  00001070920  \n",
       "2  00000957080  \n",
       "3  00000957422  \n",
       "4  00000957579  "
      ]
     },
     "execution_count": 7,
     "metadata": {},
     "output_type": "execute_result"
    }
   ],
   "source": [
    "airbnb.head()"
   ]
  },
  {
   "cell_type": "code",
   "execution_count": 8,
   "id": "2f71f6a1-faf2-4337-853e-d5ded21628a0",
   "metadata": {},
   "outputs": [
    {
     "data": {
      "text/plain": [
       "Index(['id', 'name', 'host_id', 'host_name', 'neighbourhood_group',\n",
       "       'neighbourhood', 'latitude', 'longitude', 'room_type', 'price',\n",
       "       'minimum_nights', 'number_of_reviews', 'last_review',\n",
       "       'reviews_per_month', 'calculated_host_listings_count',\n",
       "       'availability_365', 'number_of_reviews_ltm', 'license'],\n",
       "      dtype='object')"
      ]
     },
     "execution_count": 8,
     "metadata": {},
     "output_type": "execute_result"
    }
   ],
   "source": [
    "airbnb.columns"
   ]
  },
  {
   "cell_type": "code",
   "execution_count": 12,
   "id": "53d7ce40-b51a-4fb2-b9f8-08a738d5b05c",
   "metadata": {},
   "outputs": [
    {
     "data": {
      "text/plain": [
       "id                                    0\n",
       "name                                  3\n",
       "host_id                               0\n",
       "host_name                             7\n",
       "neighbourhood_group               11321\n",
       "neighbourhood                         0\n",
       "latitude                              0\n",
       "longitude                             0\n",
       "room_type                             0\n",
       "price                                 0\n",
       "minimum_nights                        0\n",
       "number_of_reviews                     0\n",
       "last_review                        2033\n",
       "reviews_per_month                  2033\n",
       "calculated_host_listings_count        0\n",
       "availability_365                      0\n",
       "number_of_reviews_ltm                 0\n",
       "license                            1570\n",
       "dtype: int64"
      ]
     },
     "execution_count": 12,
     "metadata": {},
     "output_type": "execute_result"
    }
   ],
   "source": [
    "airbnb.isna().sum()"
   ]
  },
  {
   "cell_type": "code",
   "execution_count": null,
   "id": "7de909f2-89d1-42dd-a638-869b8515fb69",
   "metadata": {},
   "outputs": [],
   "source": []
  }
 ],
 "metadata": {
  "kernelspec": {
   "display_name": "Python 3 (ipykernel)",
   "language": "python",
   "name": "python3"
  },
  "language_info": {
   "codemirror_mode": {
    "name": "ipython",
    "version": 3
   },
   "file_extension": ".py",
   "mimetype": "text/x-python",
   "name": "python",
   "nbconvert_exporter": "python",
   "pygments_lexer": "ipython3",
   "version": "3.11.7"
  }
 },
 "nbformat": 4,
 "nbformat_minor": 5
}
